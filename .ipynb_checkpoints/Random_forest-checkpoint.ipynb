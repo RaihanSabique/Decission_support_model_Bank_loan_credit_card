{
 "cells": [
  {
   "cell_type": "code",
   "execution_count": 12,
   "metadata": {},
   "outputs": [],
   "source": [
    "import pandas as pd"
   ]
  },
  {
   "cell_type": "code",
   "execution_count": 16,
   "metadata": {},
   "outputs": [],
   "source": [
    "data=pd.read_csv(\"SME Proposal.csv\") "
   ]
  },
  {
   "cell_type": "code",
   "execution_count": 17,
   "metadata": {},
   "outputs": [
    {
     "data": {
      "text/html": [
       "<div>\n",
       "<style scoped>\n",
       "    .dataframe tbody tr th:only-of-type {\n",
       "        vertical-align: middle;\n",
       "    }\n",
       "\n",
       "    .dataframe tbody tr th {\n",
       "        vertical-align: top;\n",
       "    }\n",
       "\n",
       "    .dataframe thead th {\n",
       "        text-align: right;\n",
       "    }\n",
       "</style>\n",
       "<table border=\"1\" class=\"dataframe\">\n",
       "  <thead>\n",
       "    <tr style=\"text-align: right;\">\n",
       "      <th></th>\n",
       "      <th>SRL_NO</th>\n",
       "      <th>AGENTBOOTH_BRANCH</th>\n",
       "      <th>REQ_LIMIT</th>\n",
       "      <th>LOAN_TENOR</th>\n",
       "      <th>INTEREST_RATE</th>\n",
       "      <th>PROPOSED_EMI</th>\n",
       "      <th>EXISTING_LOAN</th>\n",
       "      <th>OUTSTANDING_AMOUNT</th>\n",
       "      <th>EXT_LOAN_EMI</th>\n",
       "      <th>BUS_ASSETS</th>\n",
       "      <th>...</th>\n",
       "      <th>LOAN_TO_PRICE</th>\n",
       "      <th>DEBT_EQU_RATIO</th>\n",
       "      <th>OWNER_AGE</th>\n",
       "      <th>OWNER_PNW</th>\n",
       "      <th>GUARANTOR_AGE</th>\n",
       "      <th>GUARANTOR_PNW</th>\n",
       "      <th>ELIGIBILITY_PART1</th>\n",
       "      <th>ELIGIBILITY_PART2</th>\n",
       "      <th>CIB_STATUS</th>\n",
       "      <th>APPROVED</th>\n",
       "    </tr>\n",
       "  </thead>\n",
       "  <tbody>\n",
       "    <tr>\n",
       "      <th>0</th>\n",
       "      <td>533</td>\n",
       "      <td>2</td>\n",
       "      <td>0.4</td>\n",
       "      <td>24.0</td>\n",
       "      <td>15.0</td>\n",
       "      <td>0.019</td>\n",
       "      <td>0.0</td>\n",
       "      <td>0.000</td>\n",
       "      <td>0.000</td>\n",
       "      <td>0.000</td>\n",
       "      <td>...</td>\n",
       "      <td>25.3</td>\n",
       "      <td>22.7</td>\n",
       "      <td>31</td>\n",
       "      <td>1.799</td>\n",
       "      <td>42</td>\n",
       "      <td>3</td>\n",
       "      <td>5.0</td>\n",
       "      <td>14.0</td>\n",
       "      <td>1</td>\n",
       "      <td>1</td>\n",
       "    </tr>\n",
       "    <tr>\n",
       "      <th>1</th>\n",
       "      <td>534</td>\n",
       "      <td>1</td>\n",
       "      <td>0.8</td>\n",
       "      <td>36.0</td>\n",
       "      <td>15.0</td>\n",
       "      <td>0.028</td>\n",
       "      <td>0.0</td>\n",
       "      <td>0.000</td>\n",
       "      <td>0.000</td>\n",
       "      <td>0.120</td>\n",
       "      <td>...</td>\n",
       "      <td>63.2</td>\n",
       "      <td>53.2</td>\n",
       "      <td>36</td>\n",
       "      <td>8.300</td>\n",
       "      <td>39</td>\n",
       "      <td>2</td>\n",
       "      <td>4.0</td>\n",
       "      <td>14.5</td>\n",
       "      <td>1</td>\n",
       "      <td>1</td>\n",
       "    </tr>\n",
       "    <tr>\n",
       "      <th>2</th>\n",
       "      <td>536</td>\n",
       "      <td>2</td>\n",
       "      <td>0.8</td>\n",
       "      <td>48.0</td>\n",
       "      <td>10.0</td>\n",
       "      <td>0.020</td>\n",
       "      <td>0.5</td>\n",
       "      <td>0.052</td>\n",
       "      <td>0.023</td>\n",
       "      <td>0.055</td>\n",
       "      <td>...</td>\n",
       "      <td>135</td>\n",
       "      <td>108.4</td>\n",
       "      <td>54</td>\n",
       "      <td>1.800</td>\n",
       "      <td>53</td>\n",
       "      <td>4</td>\n",
       "      <td>4.5</td>\n",
       "      <td>16.5</td>\n",
       "      <td>1</td>\n",
       "      <td>1</td>\n",
       "    </tr>\n",
       "    <tr>\n",
       "      <th>3</th>\n",
       "      <td>537</td>\n",
       "      <td>2</td>\n",
       "      <td>0.5</td>\n",
       "      <td>24.0</td>\n",
       "      <td>15.0</td>\n",
       "      <td>0.024</td>\n",
       "      <td>0.0</td>\n",
       "      <td>0.000</td>\n",
       "      <td>0.000</td>\n",
       "      <td>0.413</td>\n",
       "      <td>...</td>\n",
       "      <td>27.3</td>\n",
       "      <td>21.3</td>\n",
       "      <td>30</td>\n",
       "      <td>2.298</td>\n",
       "      <td>40</td>\n",
       "      <td>11</td>\n",
       "      <td>3.0</td>\n",
       "      <td>12.5</td>\n",
       "      <td>1</td>\n",
       "      <td>1</td>\n",
       "    </tr>\n",
       "    <tr>\n",
       "      <th>4</th>\n",
       "      <td>538</td>\n",
       "      <td>1</td>\n",
       "      <td>0.2</td>\n",
       "      <td>24.0</td>\n",
       "      <td>15.0</td>\n",
       "      <td>0.010</td>\n",
       "      <td>0.0</td>\n",
       "      <td>0.000</td>\n",
       "      <td>0.000</td>\n",
       "      <td>0.171</td>\n",
       "      <td>...</td>\n",
       "      <td>0</td>\n",
       "      <td>0</td>\n",
       "      <td>26</td>\n",
       "      <td>1.960</td>\n",
       "      <td>0</td>\n",
       "      <td>0</td>\n",
       "      <td>0.0</td>\n",
       "      <td>0.0</td>\n",
       "      <td>0</td>\n",
       "      <td>0</td>\n",
       "    </tr>\n",
       "  </tbody>\n",
       "</table>\n",
       "<p>5 rows × 29 columns</p>\n",
       "</div>"
      ],
      "text/plain": [
       "   SRL_NO  AGENTBOOTH_BRANCH  REQ_LIMIT  LOAN_TENOR  INTEREST_RATE  \\\n",
       "0     533                  2        0.4        24.0           15.0   \n",
       "1     534                  1        0.8        36.0           15.0   \n",
       "2     536                  2        0.8        48.0           10.0   \n",
       "3     537                  2        0.5        24.0           15.0   \n",
       "4     538                  1        0.2        24.0           15.0   \n",
       "\n",
       "   PROPOSED_EMI  EXISTING_LOAN  OUTSTANDING_AMOUNT  EXT_LOAN_EMI  BUS_ASSETS  \\\n",
       "0         0.019            0.0               0.000         0.000       0.000   \n",
       "1         0.028            0.0               0.000         0.000       0.120   \n",
       "2         0.020            0.5               0.052         0.023       0.055   \n",
       "3         0.024            0.0               0.000         0.000       0.413   \n",
       "4         0.010            0.0               0.000         0.000       0.171   \n",
       "\n",
       "    ...    LOAN_TO_PRICE  DEBT_EQU_RATIO  OWNER_AGE  OWNER_PNW  GUARANTOR_AGE  \\\n",
       "0   ...             25.3            22.7         31      1.799             42   \n",
       "1   ...             63.2            53.2         36      8.300             39   \n",
       "2   ...              135           108.4         54      1.800             53   \n",
       "3   ...             27.3            21.3         30      2.298             40   \n",
       "4   ...                0               0         26      1.960              0   \n",
       "\n",
       "   GUARANTOR_PNW  ELIGIBILITY_PART1 ELIGIBILITY_PART2  CIB_STATUS APPROVED  \n",
       "0              3                5.0              14.0           1        1  \n",
       "1              2                4.0              14.5           1        1  \n",
       "2              4                4.5              16.5           1        1  \n",
       "3             11                3.0              12.5           1        1  \n",
       "4              0                0.0               0.0           0        0  \n",
       "\n",
       "[5 rows x 29 columns]"
      ]
     },
     "execution_count": 17,
     "metadata": {},
     "output_type": "execute_result"
    }
   ],
   "source": [
    "data.head()"
   ]
  },
  {
   "cell_type": "code",
   "execution_count": 28,
   "metadata": {},
   "outputs": [
    {
     "name": "stdout",
     "output_type": "stream",
     "text": [
      "Index(['SRL_NO', 'AGENTBOOTH_BRANCH', 'REQ_LIMIT', 'LOAN_TENOR',\n",
      "       'INTEREST_RATE', 'PROPOSED_EMI', 'EXISTING_LOAN', 'OUTSTANDING_AMOUNT',\n",
      "       'EXT_LOAN_EMI', 'BUS_ASSETS', 'MONTHLY_INCOME', 'BUSINESS_AGE',\n",
      "       'CASH_IN_HAND', 'STOCK', 'RECEIVABLE', 'PAYABLE', 'YEARLY_SALES',\n",
      "       'NET_PROFIT_MARGIN', 'DEBT_BUR_RATIO', 'LOAN_TO_PRICE',\n",
      "       'DEBT_EQU_RATIO', 'OWNER_AGE', 'OWNER_PNW', 'GUARANTOR_AGE',\n",
      "       'GUARANTOR_PNW', 'ELIGIBILITY_PART1', 'ELIGIBILITY_PART2', 'CIB_STATUS',\n",
      "       'APPROVED'],\n",
      "      dtype='object') object\n"
     ]
    }
   ],
   "source": [
    "print(data.columns,data.columns.dtype) "
   ]
  },
  {
   "cell_type": "code",
   "execution_count": 145,
   "metadata": {
    "scrolled": true
   },
   "outputs": [
    {
     "name": "stdout",
     "output_type": "stream",
     "text": [
      "REQ_LIMIT float64\n",
      "LOAN_TENOR float64\n",
      "INTEREST_RATE float64\n",
      "PROPOSED_EMI float64\n",
      "EXISTING_LOAN float64\n",
      "OUTSTANDING_AMOUNT float64\n",
      "EXT_LOAN_EMI float64\n",
      "BUS_ASSETS float64\n",
      "MONTHLY_INCOME\n",
      "MONTHLY_INCOME object\n",
      "BUSINESS_AGE int64\n",
      "CASH_IN_HAND float64\n",
      "STOCK float64\n",
      "RECEIVABLE float64\n",
      "PAYABLE float64\n",
      "YEARLY_SALES float64\n",
      "NET_PROFIT_MARGIN\n",
      "NET_PROFIT_MARGIN object\n",
      "DEBT_BUR_RATIO float64\n",
      "LOAN_TO_PRICE\n",
      "LOAN_TO_PRICE"
     ]
    },
    {
     "name": "stderr",
     "output_type": "stream",
     "text": [
      "/home/babl/anaconda3/lib/python3.7/site-packages/ipykernel_launcher.py:17: SettingWithCopyWarning: \n",
      "A value is trying to be set on a copy of a slice from a DataFrame.\n",
      "Try using .loc[row_indexer,col_indexer] = value instead\n",
      "\n",
      "See the caveats in the documentation: http://pandas.pydata.org/pandas-docs/stable/indexing.html#indexing-view-versus-copy\n",
      "/home/babl/anaconda3/lib/python3.7/site-packages/ipykernel_launcher.py:18: SettingWithCopyWarning: \n",
      "A value is trying to be set on a copy of a slice from a DataFrame.\n",
      "Try using .loc[row_indexer,col_indexer] = value instead\n",
      "\n",
      "See the caveats in the documentation: http://pandas.pydata.org/pandas-docs/stable/indexing.html#indexing-view-versus-copy\n"
     ]
    },
    {
     "name": "stdout",
     "output_type": "stream",
     "text": [
      " object\n",
      "DEBT_EQU_RATIO\n",
      "DEBT_EQU_RATIO object\n",
      "OWNER_PNW float64\n",
      "GUARANTOR_AGE int64\n",
      "GUARANTOR_PNW int64\n",
      "ELIGIBILITY_PART1 float64\n",
      "ELIGIBILITY_PART2 float64\n",
      "CIB_STATUS int64\n"
     ]
    }
   ],
   "source": [
    "from sklearn.model_selection import train_test_split\n",
    "\n",
    "X=data[['REQ_LIMIT', 'LOAN_TENOR',\n",
    "       'INTEREST_RATE', 'PROPOSED_EMI', 'EXISTING_LOAN', 'OUTSTANDING_AMOUNT',\n",
    "       'EXT_LOAN_EMI', 'BUS_ASSETS', 'MONTHLY_INCOME', 'BUSINESS_AGE',\n",
    "       'CASH_IN_HAND', 'STOCK', 'RECEIVABLE', 'PAYABLE', 'YEARLY_SALES',\n",
    "       'NET_PROFIT_MARGIN', 'DEBT_BUR_RATIO', 'LOAN_TO_PRICE',\n",
    "       'DEBT_EQU_RATIO', 'OWNER_PNW', 'GUARANTOR_AGE',\n",
    "       'GUARANTOR_PNW', 'ELIGIBILITY_PART1', 'ELIGIBILITY_PART2', 'CIB_STATUS']]  # Features\n",
    "y=data['APPROVED']  # Labels\n",
    "# X.replace(r'^\\s*$', 0.00, regex=True)\n",
    "for key, value in X.iteritems(): \n",
    "    if value.dtype==object:\n",
    "        print(key)\n",
    "        #X[key] = pd.to_numeric(X[key], errors='coerce')\n",
    "        #print(X[key])\n",
    "        X[key]=X[key].astype('str')\n",
    "        X[key]=X[key].replace(\"#\",0, regex=True).astype(float)\n",
    "    print(key, value.dtype)\n",
    "\n",
    "\n",
    "# Split dataset into training set and test set\n",
    "X_train, X_test, y_train, y_test = train_test_split(X, y, test_size=0.3) # 70% training and 30% test\n"
   ]
  },
  {
   "cell_type": "code",
   "execution_count": 146,
   "metadata": {},
   "outputs": [],
   "source": [
    "#Import Random Forest Model\n",
    "from sklearn.ensemble import RandomForestClassifier\n",
    "\n",
    "#Create a Gaussian Classifier\n",
    "clf=RandomForestClassifier(bootstrap=True,criterion='entropy',n_estimators=500)\n",
    "\n",
    "#Train the model using the training sets y_pred=clf.predict(X_test)\n",
    "clf.fit(X_train,y_train)\n",
    "\n",
    "y_pred=clf.predict(X_test)"
   ]
  },
  {
   "cell_type": "code",
   "execution_count": 147,
   "metadata": {},
   "outputs": [
    {
     "name": "stdout",
     "output_type": "stream",
     "text": [
      "Accuracy: 0.9634970707525913\n"
     ]
    }
   ],
   "source": [
    "#Import scikit-learn metrics module for accuracy calculation\n",
    "from sklearn import metrics\n",
    "# Model Accuracy, how often is the classifier correct?\n",
    "print(\"Accuracy:\",metrics.accuracy_score(y_test, y_pred))"
   ]
  },
  {
   "cell_type": "code",
   "execution_count": 148,
   "metadata": {},
   "outputs": [
    {
     "data": {
      "text/plain": [
       "CIB_STATUS            0.494207\n",
       "OWNER_PNW             0.046152\n",
       "ELIGIBILITY_PART2     0.045593\n",
       "GUARANTOR_PNW         0.036997\n",
       "YEARLY_SALES          0.034499\n",
       "NET_PROFIT_MARGIN     0.030346\n",
       "DEBT_BUR_RATIO        0.030264\n",
       "DEBT_EQU_RATIO        0.028958\n",
       "GUARANTOR_AGE         0.027964\n",
       "LOAN_TO_PRICE         0.024377\n",
       "BUS_ASSETS            0.023797\n",
       "STOCK                 0.023196\n",
       "MONTHLY_INCOME        0.019765\n",
       "RECEIVABLE            0.019479\n",
       "PAYABLE               0.018508\n",
       "CASH_IN_HAND          0.017458\n",
       "BUSINESS_AGE          0.013620\n",
       "PROPOSED_EMI          0.011158\n",
       "OUTSTANDING_AMOUNT    0.010457\n",
       "REQ_LIMIT             0.007909\n",
       "INTEREST_RATE         0.007882\n",
       "EXISTING_LOAN         0.007814\n",
       "ELIGIBILITY_PART1     0.006787\n",
       "LOAN_TENOR            0.006491\n",
       "EXT_LOAN_EMI          0.006323\n",
       "dtype: float64"
      ]
     },
     "execution_count": 148,
     "metadata": {},
     "output_type": "execute_result"
    }
   ],
   "source": [
    "feature_imp = pd.Series(clf.feature_importances_,index=X.columns).sort_values(ascending=False)\n",
    "feature_imp"
   ]
  },
  {
   "cell_type": "code",
   "execution_count": 149,
   "metadata": {},
   "outputs": [
    {
     "name": "stderr",
     "output_type": "stream",
     "text": [
      "No handles with labels found to put in legend.\n"
     ]
    },
    {
     "data": {
      "image/png": "[encoded data removed]",
      "text/plain": [
       "<Figure size 432x288 with 1 Axes>"
      ]
     },
     "metadata": {
      "needs_background": "light"
     },
     "output_type": "display_data"
    }
   ],
   "source": [
    "import matplotlib.pyplot as plt\n",
    "import seaborn as sns\n",
    "%matplotlib inline\n",
    "# Creating a bar plot\n",
    "sns.barplot(x=feature_imp, y=feature_imp.index)\n",
    "# Add labels to your graph\n",
    "plt.xlabel('Feature Importance Score')\n",
    "plt.ylabel('Features')\n",
    "plt.title(\"Visualizing Important Features\")\n",
    "plt.legend()\n",
    "plt.show()"
   ]
  },
  {
   "cell_type": "markdown",
   "metadata": {},
   "source": [
    "# Confusion matrix"
   ]
  },
  {
   "cell_type": "code",
   "execution_count": 150,
   "metadata": {},
   "outputs": [
    {
     "name": "stdout",
     "output_type": "stream",
     "text": [
      "Confusion Matrix :\n",
      "[[ 337   80]\n",
      " [   1 1801]]\n",
      "Accuracy Score : 0.9634970707525913\n",
      "Report : \n",
      "             precision    recall  f1-score   support\n",
      "\n",
      "          0       1.00      0.81      0.89       417\n",
      "          1       0.96      1.00      0.98      1802\n",
      "\n",
      "avg / total       0.96      0.96      0.96      2219\n",
      "\n"
     ]
    }
   ],
   "source": [
    "from sklearn.metrics import confusion_matrix \n",
    "from sklearn.metrics import accuracy_score \n",
    "from sklearn.metrics import classification_report \n",
    "\n",
    "results = confusion_matrix(y_test, y_pred) \n",
    "print ('Confusion Matrix :')\n",
    "print(results) \n",
    "print ('Accuracy Score :',accuracy_score(y_test, y_pred) )\n",
    "print ('Report : ')\n",
    "print(classification_report(y_test, y_pred) )"
   ]
  }
 ],
 "metadata": {
  "kernelspec": {
   "display_name": "Python 3",
   "language": "python",
   "name": "python3"
  },
  "language_info": {
   "codemirror_mode": {
    "name": "ipython",
    "version": 3
   },
   "file_extension": ".py",
   "mimetype": "text/x-python",
   "name": "python",
   "nbconvert_exporter": "python",
   "pygments_lexer": "ipython3",
   "version": "3.7.0"
  }
 },
 "nbformat": 4,
 "nbformat_minor": 2
}

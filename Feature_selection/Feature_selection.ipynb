{
 "cells": [
  {
   "cell_type": "code",
   "execution_count": 1,
   "metadata": {},
   "outputs": [
    {
     "name": "stderr",
     "output_type": "stream",
     "text": [
      "/home/babl/anaconda3/lib/python3.7/site-packages/sklearn/ensemble/weight_boosting.py:29: DeprecationWarning: numpy.core.umath_tests is an internal NumPy module and should not be imported. It will be removed in a future NumPy release.\n",
      "  from numpy.core.umath_tests import inner1d\n"
     ]
    }
   ],
   "source": [
    "import pandas as pd\n",
    "from sklearn.model_selection import train_test_split\n",
    "import sklearn\n",
    "#Import Random Forest Model\n",
    "from sklearn.ensemble import RandomForestClassifier\n",
    "#Import scikit-learn metrics module for accuracy calculation\n",
    "from sklearn import metrics\n",
    "\n",
    "from sklearn.metrics import confusion_matrix \n",
    "from sklearn.metrics import accuracy_score \n",
    "from sklearn.metrics import classification_report \n",
    "\n",
    "import matplotlib.pyplot as plt\n",
    "import seaborn as sns\n",
    "%matplotlib inline"
   ]
  },
  {
   "cell_type": "code",
   "execution_count": 2,
   "metadata": {},
   "outputs": [
    {
     "name": "stdout",
     "output_type": "stream",
     "text": [
      "   SRL_NO  AGENTBOOTH_BRANCH  REQ_LIMIT  LOAN_TENOR  INTEREST_RATE  \\\n",
      "0     533                  2        0.4        24.0           15.0   \n",
      "1     534                  1        0.8        36.0           15.0   \n",
      "2     536                  2        0.8        48.0           10.0   \n",
      "3     537                  2        0.5        24.0           15.0   \n",
      "4     538                  1        0.2        24.0           15.0   \n",
      "\n",
      "   PROPOSED_EMI  EXISTING_LOAN  OUTSTANDING_AMOUNT  EXT_LOAN_EMI  BUS_ASSETS  \\\n",
      "0         0.019            0.0               0.000         0.000       0.000   \n",
      "1         0.028            0.0               0.000         0.000       0.120   \n",
      "2         0.020            0.5               0.052         0.023       0.055   \n",
      "3         0.024            0.0               0.000         0.000       0.413   \n",
      "4         0.010            0.0               0.000         0.000       0.171   \n",
      "\n",
      "    ...    LOAN_TO_PRICE  DEBT_EQU_RATIO  OWNER_AGE  OWNER_PNW  GUARANTOR_AGE  \\\n",
      "0   ...             25.3            22.7         31      1.799             42   \n",
      "1   ...             63.2            53.2         36      8.300             39   \n",
      "2   ...              135           108.4         54      1.800             53   \n",
      "3   ...             27.3            21.3         30      2.298             40   \n",
      "4   ...                0               0         26      1.960              0   \n",
      "\n",
      "   GUARANTOR_PNW  ELIGIBILITY_PART1 ELIGIBILITY_PART2  CIB_STATUS APPROVED  \n",
      "0              3                5.0              14.0           1        1  \n",
      "1              2                4.0              14.5           1        1  \n",
      "2              4                4.5              16.5           1        1  \n",
      "3             11                3.0              12.5           1        1  \n",
      "4              0                0.0               0.0           0        0  \n",
      "\n",
      "[5 rows x 29 columns]\n",
      "Index(['SRL_NO', 'AGENTBOOTH_BRANCH', 'REQ_LIMIT', 'LOAN_TENOR',\n",
      "       'INTEREST_RATE', 'PROPOSED_EMI', 'EXISTING_LOAN', 'OUTSTANDING_AMOUNT',\n",
      "       'EXT_LOAN_EMI', 'BUS_ASSETS', 'MONTHLY_INCOME', 'BUSINESS_AGE',\n",
      "       'CASH_IN_HAND', 'STOCK', 'RECEIVABLE', 'PAYABLE', 'YEARLY_SALES',\n",
      "       'NET_PROFIT_MARGIN', 'DEBT_BUR_RATIO', 'LOAN_TO_PRICE',\n",
      "       'DEBT_EQU_RATIO', 'OWNER_AGE', 'OWNER_PNW', 'GUARANTOR_AGE',\n",
      "       'GUARANTOR_PNW', 'ELIGIBILITY_PART1', 'ELIGIBILITY_PART2', 'CIB_STATUS',\n",
      "       'APPROVED'],\n",
      "      dtype='object') object\n"
     ]
    }
   ],
   "source": [
    "data=pd.read_csv(\"SME Proposal.csv\") \n",
    "print(data.head())\n",
    "print(data.columns,data.columns.dtype) "
   ]
  },
  {
   "cell_type": "markdown",
   "metadata": {},
   "source": [
    "# Random Forest Implementation"
   ]
  },
  {
   "cell_type": "code",
   "execution_count": 3,
   "metadata": {},
   "outputs": [],
   "source": [
    "def random_forest(X_train,X_test,y_train,y_test):\n",
    "    #Create a Gaussian Classifier\n",
    "    clf=RandomForestClassifier(bootstrap=True,criterion='entropy',n_estimators=500)\n",
    "    print(\"######Training start####\")\n",
    "    #Train the model using the training sets y_pred=clf.predict(X_test)\n",
    "    clf.fit(X_train,y_train)\n",
    "    print(\"##training completed##\")\n",
    "    print(\"## Testing Start##\")\n",
    "    y_pred=clf.predict(X_test)\n",
    "    print(\"## Testing completed##\")\n",
    "    # Model Accuracy, how often is the classifier correct?\n",
    "    print(\"Accuracy:\",metrics.accuracy_score(y_test, y_pred))\n",
    "    results = confusion_matrix(y_test, y_pred) \n",
    "    print ('Confusion Matrix :')\n",
    "    print(results) \n",
    "    print ('Accuracy Score :',accuracy_score(y_test, y_pred) )\n",
    "    print ('Report : ')\n",
    "    print(classification_report(y_test, y_pred) )\n",
    "    feature_imp = pd.Series(clf.feature_importances_,index=X.columns).sort_values(ascending=False)\n",
    "    print(\"Important Feature\",feature_imp)\n",
    "    # Creating a bar plot\n",
    "    sns.barplot(x=feature_imp, y=feature_imp.index)\n",
    "    # Add labels to your graph\n",
    "    plt.xlabel('Feature Importance Score')\n",
    "    plt.ylabel('Features')\n",
    "    plt.title(\"Visualizing Important Features\")\n",
    "    plt.legend()\n",
    "    plt.show()\n",
    "    return clf"
   ]
  },
  {
   "cell_type": "markdown",
   "metadata": {},
   "source": [
    "# Data Preprocessing"
   ]
  },
  {
   "cell_type": "code",
   "execution_count": 21,
   "metadata": {
    "scrolled": true
   },
   "outputs": [
    {
     "name": "stdout",
     "output_type": "stream",
     "text": [
      "SRL_NO int64\n",
      "AGENTBOOTH_BRANCH int64\n",
      "REQ_LIMIT float64\n",
      "LOAN_TENOR float64\n",
      "INTEREST_RATE float64\n",
      "PROPOSED_EMI float64\n",
      "EXISTING_LOAN float64\n",
      "OUTSTANDING_AMOUNT float64\n",
      "EXT_LOAN_EMI float64\n",
      "BUS_ASSETS float64\n",
      "MONTHLY_INCOME object\n",
      "BUSINESS_AGE int64\n",
      "CASH_IN_HAND float64\n",
      "STOCK float64\n",
      "RECEIVABLE float64\n",
      "PAYABLE float64\n",
      "YEARLY_SALES float64\n",
      "NET_PROFIT_MARGIN object\n",
      "DEBT_BUR_RATIO float64\n",
      "LOAN_TO_PRICE object\n",
      "DEBT_EQU_RATIO object\n",
      "OWNER_AGE object\n",
      "OWNER_PNW float64\n",
      "GUARANTOR_AGE int64\n",
      "GUARANTOR_PNW int64\n",
      "ELIGIBILITY_PART1 float64\n",
      "ELIGIBILITY_PART2 float64\n",
      "CIB_STATUS int64\n",
      "APPROVED int64\n",
      "Original data Shape (7395, 29)\n",
      "Cleaned data shape (6936, 26)\n"
     ]
    }
   ],
   "source": [
    "\n",
    "\n",
    "# X=data[data.columns[2:-1]]\n",
    "# X=data[['REQ_LIMIT', 'LOAN_TENOR',\n",
    "#        'INTEREST_RATE', 'PROPOSED_EMI', 'EXISTING_LOAN', 'OUTSTANDING_AMOUNT',\n",
    "#        'EXT_LOAN_EMI', 'BUS_ASSETS', 'MONTHLY_INCOME', 'BUSINESS_AGE',\n",
    "#        'CASH_IN_HAND', 'STOCK', 'RECEIVABLE', 'PAYABLE', 'YEARLY_SALES',\n",
    "#        'NET_PROFIT_MARGIN', 'DEBT_BUR_RATIO', 'LOAN_TO_PRICE',\n",
    "#        'DEBT_EQU_RATIO', 'OWNER_PNW', 'GUARANTOR_AGE',\n",
    "#        'GUARANTOR_PNW', 'ELIGIBILITY_PART1', 'ELIGIBILITY_PART2','CIB_STATUS']]  # Features\n",
    "# y=data['APPROVED']  # Labels\n",
    "# X.replace(r'^\\s*$', 0.00, regex=True)\n",
    "# print(X.head())\n",
    "data_copy=data.copy()\n",
    "for key, value in data_copy.iteritems(): \n",
    "#     print(key,value)\n",
    "    if value.dtype==object:\n",
    "#         print(key)\n",
    "        #X[key] = pd.to_numeric(X[key], errors='coerce')\n",
    "        #print(X[key])\n",
    "#         data_copy[key]=data_copy[key].astype('str')\n",
    "#         data_copy[key]=data_copy[key].replace(\"[a-z]|#\",0, regex=True).astype(float)\n",
    "#         X[key]=X[key].replace(\"#\",0, regex=True).astype(float)\n",
    "        data_copy[key]=pd.to_numeric(data_copy[key].replace(',','', regex=True), errors='coerce', downcast='float')\n",
    "#         X[key].clip(lower=0)\n",
    "        data_copy[key]=data_copy[key].where(data_copy[key]>0)\n",
    "    print(key, value.dtype)\n",
    "print(\"Original data Shape\",data_copy.shape)\n",
    "data_copy=data_copy.dropna()\n",
    "# data_copy.fillna(lambda x: x.median())\n",
    "X=data_copy[data_copy.columns[2:-1]]\n",
    "y=data_copy['APPROVED']\n",
    "print(\"Cleaned data shape\",X.shape)\n",
    "# print(X_new.head())\n",
    "# X.clip(lower=0)\n",
    "# Split dataset into training set and test set\n",
    "X_train, X_test, y_train, y_test = train_test_split(X, y, test_size=0.3) # 70% training and 30% test"
   ]
  },
  {
   "cell_type": "markdown",
   "metadata": {},
   "source": [
    "# Train and test Random forest"
   ]
  },
  {
   "cell_type": "code",
   "execution_count": 22,
   "metadata": {},
   "outputs": [
    {
     "name": "stdout",
     "output_type": "stream",
     "text": [
      "######Training start####\n",
      "##training completed##\n",
      "## Testing Start##\n",
      "## Testing completed##\n",
      "Accuracy: 0.9629985583853916\n"
     ]
    },
    {
     "name": "stderr",
     "output_type": "stream",
     "text": [
      "No handles with labels found to put in legend.\n"
     ]
    },
    {
     "name": "stdout",
     "output_type": "stream",
     "text": [
      "Confusion Matrix :\n",
      "[[ 251   75]\n",
      " [   2 1753]]\n",
      "Accuracy Score : 0.9629985583853916\n",
      "Report : \n",
      "             precision    recall  f1-score   support\n",
      "\n",
      "          0       0.99      0.77      0.87       326\n",
      "          1       0.96      1.00      0.98      1755\n",
      "\n",
      "avg / total       0.96      0.96      0.96      2081\n",
      "\n",
      "Important Feature CIB_STATUS            0.518281\n",
      "OWNER_PNW             0.031419\n",
      "BUS_ASSETS            0.030719\n",
      "LOAN_TO_PRICE         0.027578\n",
      "STOCK                 0.026296\n",
      "DEBT_EQU_RATIO        0.024774\n",
      "YEARLY_SALES          0.024604\n",
      "ELIGIBILITY_PART2     0.024220\n",
      "RECEIVABLE            0.023564\n",
      "MONTHLY_INCOME        0.023196\n",
      "DEBT_BUR_RATIO        0.023079\n",
      "NET_PROFIT_MARGIN     0.023040\n",
      "GUARANTOR_AGE         0.022403\n",
      "OWNER_AGE             0.020347\n",
      "PAYABLE               0.020271\n",
      "GUARANTOR_PNW         0.020242\n",
      "CASH_IN_HAND          0.018581\n",
      "BUSINESS_AGE          0.017972\n",
      "OUTSTANDING_AMOUNT    0.014380\n",
      "PROPOSED_EMI          0.012861\n",
      "INTEREST_RATE         0.010237\n",
      "EXISTING_LOAN         0.010063\n",
      "ELIGIBILITY_PART1     0.008744\n",
      "REQ_LIMIT             0.008110\n",
      "LOAN_TENOR            0.007865\n",
      "EXT_LOAN_EMI          0.007152\n",
      "dtype: float64\n"
     ]
    },
    {
     "data": {
      "image/png": "[encoded data removed]",
      "text/plain": [
       "<Figure size 432x288 with 1 Axes>"
      ]
     },
     "metadata": {
      "needs_background": "light"
     },
     "output_type": "display_data"
    }
   ],
   "source": [
    "clf=random_forest(X_train, X_test, y_train, y_test)"
   ]
  },
  {
   "cell_type": "markdown",
   "metadata": {},
   "source": [
    "## Feature selection Algorithms"
   ]
  },
  {
   "cell_type": "code",
   "execution_count": 23,
   "metadata": {},
   "outputs": [
    {
     "ename": "TypeError",
     "evalue": "float() argument must be a string or a number, not 'MinMaxScaler'",
     "output_type": "error",
     "traceback": [
      "\u001b[0;31m---------------------------------------------------------------------------\u001b[0m",
      "\u001b[0;31mTypeError\u001b[0m                                 Traceback (most recent call last)",
      "\u001b[0;32m<ipython-input-23-980bf236865e>\u001b[0m in \u001b[0;36m<module>\u001b[0;34m()\u001b[0m\n\u001b[1;32m      2\u001b[0m \u001b[0;32mfrom\u001b[0m \u001b[0msklearn\u001b[0m\u001b[0;34m.\u001b[0m\u001b[0mfeature_selection\u001b[0m \u001b[0;32mimport\u001b[0m \u001b[0mSelectKBest\u001b[0m\u001b[0;34m,\u001b[0m \u001b[0mchi2\u001b[0m\u001b[0;34m\u001b[0m\u001b[0m\n\u001b[1;32m      3\u001b[0m \u001b[0mX_train\u001b[0m\u001b[0;34m=\u001b[0m\u001b[0msklearn\u001b[0m\u001b[0;34m.\u001b[0m\u001b[0mpreprocessing\u001b[0m\u001b[0;34m.\u001b[0m\u001b[0mMinMaxScaler\u001b[0m\u001b[0;34m(\u001b[0m\u001b[0;34m)\u001b[0m\u001b[0;34m\u001b[0m\u001b[0m\n\u001b[0;32m----> 4\u001b[0;31m \u001b[0mselect_feature\u001b[0m \u001b[0;34m=\u001b[0m\u001b[0mSelectKBest\u001b[0m\u001b[0;34m(\u001b[0m\u001b[0mchi2\u001b[0m\u001b[0;34m,\u001b[0m \u001b[0mk\u001b[0m\u001b[0;34m=\u001b[0m\u001b[0;36m5\u001b[0m\u001b[0;34m)\u001b[0m\u001b[0;34m.\u001b[0m\u001b[0mfit\u001b[0m\u001b[0;34m(\u001b[0m\u001b[0mX_train\u001b[0m\u001b[0;34m,\u001b[0m \u001b[0my_train\u001b[0m\u001b[0;34m)\u001b[0m\u001b[0;34m\u001b[0m\u001b[0m\n\u001b[0m\u001b[1;32m      5\u001b[0m selected_features_df = pd.DataFrame({'Feature':list(X_train.columns),\n\u001b[1;32m      6\u001b[0m                                      'Scores':select_feature.scores_})\n",
      "\u001b[0;32m~/anaconda3/lib/python3.7/site-packages/sklearn/feature_selection/univariate_selection.py\u001b[0m in \u001b[0;36mfit\u001b[0;34m(self, X, y)\u001b[0m\n\u001b[1;32m    339\u001b[0m             \u001b[0mReturns\u001b[0m \u001b[0mself\u001b[0m\u001b[0;34m.\u001b[0m\u001b[0;34m\u001b[0m\u001b[0m\n\u001b[1;32m    340\u001b[0m         \"\"\"\n\u001b[0;32m--> 341\u001b[0;31m         \u001b[0mX\u001b[0m\u001b[0;34m,\u001b[0m \u001b[0my\u001b[0m \u001b[0;34m=\u001b[0m \u001b[0mcheck_X_y\u001b[0m\u001b[0;34m(\u001b[0m\u001b[0mX\u001b[0m\u001b[0;34m,\u001b[0m \u001b[0my\u001b[0m\u001b[0;34m,\u001b[0m \u001b[0;34m[\u001b[0m\u001b[0;34m'csr'\u001b[0m\u001b[0;34m,\u001b[0m \u001b[0;34m'csc'\u001b[0m\u001b[0;34m]\u001b[0m\u001b[0;34m,\u001b[0m \u001b[0mmulti_output\u001b[0m\u001b[0;34m=\u001b[0m\u001b[0;32mTrue\u001b[0m\u001b[0;34m)\u001b[0m\u001b[0;34m\u001b[0m\u001b[0m\n\u001b[0m\u001b[1;32m    342\u001b[0m \u001b[0;34m\u001b[0m\u001b[0m\n\u001b[1;32m    343\u001b[0m         \u001b[0;32mif\u001b[0m \u001b[0;32mnot\u001b[0m \u001b[0mcallable\u001b[0m\u001b[0;34m(\u001b[0m\u001b[0mself\u001b[0m\u001b[0;34m.\u001b[0m\u001b[0mscore_func\u001b[0m\u001b[0;34m)\u001b[0m\u001b[0;34m:\u001b[0m\u001b[0;34m\u001b[0m\u001b[0m\n",
      "\u001b[0;32m~/anaconda3/lib/python3.7/site-packages/sklearn/utils/validation.py\u001b[0m in \u001b[0;36mcheck_X_y\u001b[0;34m(X, y, accept_sparse, dtype, order, copy, force_all_finite, ensure_2d, allow_nd, multi_output, ensure_min_samples, ensure_min_features, y_numeric, warn_on_dtype, estimator)\u001b[0m\n\u001b[1;32m    571\u001b[0m     X = check_array(X, accept_sparse, dtype, order, copy, force_all_finite,\n\u001b[1;32m    572\u001b[0m                     \u001b[0mensure_2d\u001b[0m\u001b[0;34m,\u001b[0m \u001b[0mallow_nd\u001b[0m\u001b[0;34m,\u001b[0m \u001b[0mensure_min_samples\u001b[0m\u001b[0;34m,\u001b[0m\u001b[0;34m\u001b[0m\u001b[0m\n\u001b[0;32m--> 573\u001b[0;31m                     ensure_min_features, warn_on_dtype, estimator)\n\u001b[0m\u001b[1;32m    574\u001b[0m     \u001b[0;32mif\u001b[0m \u001b[0mmulti_output\u001b[0m\u001b[0;34m:\u001b[0m\u001b[0;34m\u001b[0m\u001b[0m\n\u001b[1;32m    575\u001b[0m         y = check_array(y, 'csr', force_all_finite=True, ensure_2d=False,\n",
      "\u001b[0;32m~/anaconda3/lib/python3.7/site-packages/sklearn/utils/validation.py\u001b[0m in \u001b[0;36mcheck_array\u001b[0;34m(array, accept_sparse, dtype, order, copy, force_all_finite, ensure_2d, allow_nd, ensure_min_samples, ensure_min_features, warn_on_dtype, estimator)\u001b[0m\n\u001b[1;32m    446\u001b[0m         \u001b[0;31m# make sure we actually converted to numeric:\u001b[0m\u001b[0;34m\u001b[0m\u001b[0;34m\u001b[0m\u001b[0m\n\u001b[1;32m    447\u001b[0m         \u001b[0;32mif\u001b[0m \u001b[0mdtype_numeric\u001b[0m \u001b[0;32mand\u001b[0m \u001b[0marray\u001b[0m\u001b[0;34m.\u001b[0m\u001b[0mdtype\u001b[0m\u001b[0;34m.\u001b[0m\u001b[0mkind\u001b[0m \u001b[0;34m==\u001b[0m \u001b[0;34m\"O\"\u001b[0m\u001b[0;34m:\u001b[0m\u001b[0;34m\u001b[0m\u001b[0m\n\u001b[0;32m--> 448\u001b[0;31m             \u001b[0marray\u001b[0m \u001b[0;34m=\u001b[0m \u001b[0marray\u001b[0m\u001b[0;34m.\u001b[0m\u001b[0mastype\u001b[0m\u001b[0;34m(\u001b[0m\u001b[0mnp\u001b[0m\u001b[0;34m.\u001b[0m\u001b[0mfloat64\u001b[0m\u001b[0;34m)\u001b[0m\u001b[0;34m\u001b[0m\u001b[0m\n\u001b[0m\u001b[1;32m    449\u001b[0m         \u001b[0;32mif\u001b[0m \u001b[0;32mnot\u001b[0m \u001b[0mallow_nd\u001b[0m \u001b[0;32mand\u001b[0m \u001b[0marray\u001b[0m\u001b[0;34m.\u001b[0m\u001b[0mndim\u001b[0m \u001b[0;34m>=\u001b[0m \u001b[0;36m3\u001b[0m\u001b[0;34m:\u001b[0m\u001b[0;34m\u001b[0m\u001b[0m\n\u001b[1;32m    450\u001b[0m             raise ValueError(\"Found array with dim %d. %s expected <= 2.\"\n",
      "\u001b[0;31mTypeError\u001b[0m: float() argument must be a string or a number, not 'MinMaxScaler'"
     ]
    }
   ],
   "source": [
    "##Feature selection\n",
    "from sklearn.feature_selection import SelectKBest, chi2\n",
    "X_train=sklearn.preprocessing.MinMaxScaler()\n",
    "select_feature =SelectKBest(chi2, k=5).fit(X_train, y_train)\n",
    "selected_features_df = pd.DataFrame({'Feature':list(X_train.columns),\n",
    "                                     'Scores':select_feature.scores_})\n",
    "selected_features_df.sort_values(by='Scores', ascending=False)"
   ]
  },
  {
   "cell_type": "code",
   "execution_count": 25,
   "metadata": {},
   "outputs": [
    {
     "name": "stderr",
     "output_type": "stream",
     "text": [
      "/home/babl/anaconda3/lib/python3.7/site-packages/sklearn/utils/validation.py:475: DataConversionWarning: Data with input dtype int64 was converted to float64 by the scale function.\n",
      "  warnings.warn(msg, DataConversionWarning)\n"
     ]
    },
    {
     "name": "stdout",
     "output_type": "stream",
     "text": [
      "chi2 score         [5.20341788e+00 7.43440181e+01 6.30751610e-01 8.22762957e-02\n",
      " 1.71469111e+02 2.18155906e+02 2.55085025e+00 7.66884568e+02\n",
      " 5.87671669e+00 2.30292071e-01 4.46641939e+01 1.58453274e+02\n",
      " 7.83408107e+01 6.73228105e+00 6.93940778e+02 1.53149472e+02\n",
      " 5.27138111e+00 9.25123048e+01 1.21007877e+01 2.68861043e-03\n",
      " 5.95451484e+02 1.39466249e+01 2.57282259e+04 8.16972735e-02\n",
      " 1.54195112e+01 5.52904746e+02]\n",
      "chi2 p-value       [2.25425215e-002 6.56238159e-018 4.27079752e-001 7.74236021e-001\n",
      " 3.53432038e-039 2.28367951e-049 1.10234918e-001 8.55347319e-169\n",
      " 1.53424058e-002 6.31307346e-001 2.33895816e-011 2.46376504e-036\n",
      " 8.67117928e-019 9.46834418e-003 6.21340854e-153 3.55308912e-035\n",
      " 2.16788063e-002 6.69074825e-022 5.04005260e-004 9.58646771e-001\n",
      " 1.63359250e-131 1.88075015e-004 0.00000000e+000 7.75010360e-001\n",
      " 8.60947565e-005 2.93827788e-122]\n",
      "F - score score    [3.94987335e+01 2.24518023e+01 2.70274325e+00 1.54525949e+01\n",
      " 5.07734385e+01 5.51931977e+01 3.34932664e+01 2.30571895e+01\n",
      " 2.15282004e+01 1.15450483e-03 1.69256751e+01 2.35654860e+01\n",
      " 3.27491307e+01 9.41599142e+00 2.34177231e+01 9.96993961e+00\n",
      " 7.24024223e-01 3.76729974e+00 1.57879025e+00 1.32586111e-03\n",
      " 6.34249602e+00 1.38385269e+01 6.60956242e+00 1.64017617e-01\n",
      " 2.97913439e+01 1.65898756e+04]\n",
      "F - score p-value  [3.48169961e-10 2.19775828e-06 1.00221081e-01 8.54241263e-05\n",
      " 1.14125271e-12 1.22338105e-13 7.46305032e-09 1.60551830e-06\n",
      " 3.55067015e-06 9.72895668e-01 3.93221119e-05 1.23375743e-06\n",
      " 1.09227751e-08 2.15931717e-03 1.33190072e-06 1.59799099e-03\n",
      " 3.94856437e-01 5.23044124e-02 2.08977362e-01 9.70954594e-01\n",
      " 1.18102131e-02 2.00783246e-04 1.01639251e-02 6.85496704e-01\n",
      " 4.97786676e-08 0.00000000e+00]\n",
      "mutual info        [0.00560267 0.004249   0.00611394 0.00155682 0.00168147 0.00869208\n",
      " 0.00033164 0.00338693 0.0146642  0.00788343 0.00768526 0.01337529\n",
      " 0.00174872 0.00127623 0.00027334 0.00721597 0.00506143 0.\n",
      " 0.00626057 0.         0.01225329 0.01354853 0.01163367 0.00196661\n",
      " 0.01286045 0.25983344]\n",
      "F - regression score         (array([3.94987335e+01, 2.24518023e+01, 2.70274325e+00, 1.54525949e+01,\n",
      "       5.07734385e+01, 5.51931977e+01, 3.34932664e+01, 2.30571895e+01,\n",
      "       2.15282004e+01, 1.15450483e-03, 1.69256751e+01, 2.35654860e+01,\n",
      "       3.27491307e+01, 9.41599142e+00, 2.34177231e+01, 9.96993961e+00,\n",
      "       7.24024223e-01, 3.76729974e+00, 1.57879025e+00, 1.32586110e-03,\n",
      "       6.34249602e+00, 1.38385269e+01, 6.60956242e+00, 1.64017617e-01,\n",
      "       2.97913439e+01, 1.65898756e+04]), array([3.48169961e-10, 2.19775828e-06, 1.00221081e-01, 8.54241263e-05,\n",
      "       1.14125271e-12, 1.22338105e-13, 7.46305032e-09, 1.60551830e-06,\n",
      "       3.55067015e-06, 9.72895668e-01, 3.93221119e-05, 1.23375743e-06,\n",
      "       1.09227751e-08, 2.15931717e-03, 1.33190072e-06, 1.59799099e-03,\n",
      "       3.94856437e-01, 5.23044124e-02, 2.08977362e-01, 9.70954595e-01,\n",
      "       1.18102131e-02, 2.00783246e-04, 1.01639251e-02, 6.85496704e-01,\n",
      "       4.97786676e-08, 0.00000000e+00]))\n",
      "Mutual info regression score       [0.01265795 0.00539292 0.         0.         0.0100047  0.01753725\n",
      " 0.00565924 0.         0.02070411 0.         0.01443338 0.00824502\n",
      " 0.         0.01509143 0.00107919 0.0115694  0.00375131 0.00547169\n",
      " 0.         0.01677562 0.01491266 0.00703672 0.0017442  0.00065512\n",
      " 0.01212142 0.25455426]\n"
     ]
    }
   ],
   "source": [
    "from sklearn import feature_selection\n",
    "from sklearn.feature_selection import f_classif, chi2, mutual_info_classif\n",
    "from statsmodels.stats.multicomp import pairwise_tukeyhsd\n",
    "from sklearn.datasets import load_iris\n",
    "# data = load_iris()\n",
    "# X,y = data.data, data.target\n",
    "# X.clip(lower=0)\n",
    "chi2_score, chi_2_p_value = chi2(X,y)\n",
    "# chi2, pval = feature_selection.f_classif(X,y)\n",
    "f_score, f_p_value = f_classif(X,y)\n",
    "mut_info_score = mutual_info_classif(X,y)\n",
    "f_reg_score=feature_selection.f_regression(X,y)\n",
    "mut_info_reg_score=feature_selection.mutual_info_regression(X,y)\n",
    "# pairwise_tukeyhsd = [list(pairwise_tukeyhsd(X[:,i],y).reject) for i in range(len(X))]\n",
    "print('chi2 score        ', chi2_score)\n",
    "print('chi2 p-value      ', chi_2_p_value)\n",
    "print('F - score score   ', f_score)\n",
    "print('F - score p-value ', f_p_value)\n",
    "print('mutual info       ', mut_info_score)\n",
    "print('F - regression score        ', f_reg_score)\n",
    "print('Mutual info regression score      ', mut_info_reg_score)\n",
    "# print('pairwise_tukeyhsd',pairwise_tukeyhsd)"
   ]
  },
  {
   "cell_type": "markdown",
   "metadata": {},
   "source": [
    "# SelectKBest\n",
    "* SelectKBest returns K important features based on above techniques \n",
    "* Based on configuration, it can use mutual_information or ANOVA or regression based techniques\n"
   ]
  },
  {
   "cell_type": "code",
   "execution_count": 69,
   "metadata": {
    "scrolled": true
   },
   "outputs": [
    {
     "name": "stdout",
     "output_type": "stream",
     "text": [
      "[<function f_classif at 0x7f869acaa378> <function chi2 at 0x7f869acaa488>\n",
      " <function mutual_info_classif at 0x7f869ab4b6a8>\n",
      " <function f_regression at 0x7f869acaa510>\n",
      " <function mutual_info_regression at 0x7f869ab4b620>]\n"
     ]
    },
    {
     "name": "stderr",
     "output_type": "stream",
     "text": [
      "/home/babl/anaconda3/lib/python3.7/site-packages/scipy/stats/stats.py:1713: FutureWarning: Using a non-tuple sequence for multidimensional indexing is deprecated; use `arr[tuple(seq)]` instead of `arr[seq]`. In the future this will be interpreted as an array index, `arr[np.array(seq)]`, which will result either in an error or a different result.\n",
      "  return np.add.reduce(sorted[indexer] * weights, axis=axis) / sumval\n",
      "/home/babl/anaconda3/lib/python3.7/site-packages/scipy/stats/stats.py:1713: FutureWarning: Using a non-tuple sequence for multidimensional indexing is deprecated; use `arr[tuple(seq)]` instead of `arr[seq]`. In the future this will be interpreted as an array index, `arr[np.array(seq)]`, which will result either in an error or a different result.\n",
      "  return np.add.reduce(sorted[indexer] * weights, axis=axis) / sumval\n",
      "/home/babl/anaconda3/lib/python3.7/site-packages/scipy/stats/stats.py:1713: FutureWarning: Using a non-tuple sequence for multidimensional indexing is deprecated; use `arr[tuple(seq)]` instead of `arr[seq]`. In the future this will be interpreted as an array index, `arr[np.array(seq)]`, which will result either in an error or a different result.\n",
      "  return np.add.reduce(sorted[indexer] * weights, axis=axis) / sumval\n",
      "/home/babl/anaconda3/lib/python3.7/site-packages/scipy/stats/stats.py:1713: FutureWarning: Using a non-tuple sequence for multidimensional indexing is deprecated; use `arr[tuple(seq)]` instead of `arr[seq]`. In the future this will be interpreted as an array index, `arr[np.array(seq)]`, which will result either in an error or a different result.\n",
      "  return np.add.reduce(sorted[indexer] * weights, axis=axis) / sumval\n",
      "/home/babl/anaconda3/lib/python3.7/site-packages/sklearn/utils/validation.py:475: DataConversionWarning: Data with input dtype int64 was converted to float64 by the scale function.\n",
      "  warnings.warn(msg, DataConversionWarning)\n"
     ]
    },
    {
     "name": "stdout",
     "output_type": "stream",
     "text": [
      "                    KBestAlgorithm_1  PercentileAlgorithm_1  KBestAlgorithm_2  \\\n",
      "REQ_LIMIT                  39.498734               0.005764          5.203418   \n",
      "LOAN_TENOR                 22.451802               0.000000         74.344018   \n",
      "INTEREST_RATE               2.702743               0.009689          0.630752   \n",
      "PROPOSED_EMI               15.452595               0.000157          0.082276   \n",
      "EXISTING_LOAN              50.773438               0.005927        171.469111   \n",
      "OUTSTANDING_AMOUNT         55.193198               0.016422        218.155906   \n",
      "EXT_LOAN_EMI               33.493266               0.004615          2.550850   \n",
      "BUS_ASSETS                 23.057190               0.005050        766.884568   \n",
      "MONTHLY_INCOME             21.528200               0.015597          5.876717   \n",
      "BUSINESS_AGE                0.001155               0.000000          0.230292   \n",
      "CASH_IN_HAND               16.925675               0.007745         44.664194   \n",
      "STOCK                      23.565486               0.010228        158.453274   \n",
      "RECEIVABLE                 32.749131               0.000801         78.340811   \n",
      "PAYABLE                     9.415991               0.003634          6.732281   \n",
      "YEARLY_SALES               23.417723               0.001874        693.940778   \n",
      "NET_PROFIT_MARGIN           9.969940               0.000000        153.149472   \n",
      "DEBT_BUR_RATIO              0.724024               0.007289          5.271381   \n",
      "LOAN_TO_PRICE               3.767300               0.000969         92.512305   \n",
      "DEBT_EQU_RATIO              1.578790               0.009193         12.100788   \n",
      "OWNER_AGE                   0.001326               0.012567          0.002689   \n",
      "OWNER_PNW                   6.342496               0.012017        595.451484   \n",
      "GUARANTOR_AGE              13.838527               0.008690         13.946625   \n",
      "GUARANTOR_PNW               6.609562               0.011693      25728.225879   \n",
      "ELIGIBILITY_PART1           0.164018               0.001850          0.081697   \n",
      "ELIGIBILITY_PART2          29.791344               0.009249         15.419511   \n",
      "CIB_STATUS              16589.875559               0.261748        552.904746   \n",
      "\n",
      "                    PercentileAlgorithm_2  KBestAlgorithm_3  \\\n",
      "REQ_LIMIT                        0.000000          0.002550   \n",
      "LOAN_TENOR                       0.003389          0.000956   \n",
      "INTEREST_RATE                    0.000000          0.000000   \n",
      "PROPOSED_EMI                     0.007039          0.004112   \n",
      "EXISTING_LOAN                    0.008093          0.002462   \n",
      "OUTSTANDING_AMOUNT               0.013703          0.015661   \n",
      "EXT_LOAN_EMI                     0.008875          0.004502   \n",
      "BUS_ASSETS                       0.008818          0.008058   \n",
      "MONTHLY_INCOME                   0.014586          0.012893   \n",
      "BUSINESS_AGE                     0.005903          0.000000   \n",
      "CASH_IN_HAND                     0.009789          0.006540   \n",
      "STOCK                            0.011746          0.014822   \n",
      "RECEIVABLE                       0.000000          0.000000   \n",
      "PAYABLE                          0.001258          0.002607   \n",
      "YEARLY_SALES                     0.002073          0.001187   \n",
      "NET_PROFIT_MARGIN                0.000935          0.004837   \n",
      "DEBT_BUR_RATIO                   0.013024          0.009529   \n",
      "LOAN_TO_PRICE                    0.000000          0.000000   \n",
      "DEBT_EQU_RATIO                   0.000364          0.003248   \n",
      "OWNER_AGE                        0.003853          0.000000   \n",
      "OWNER_PNW                        0.013605          0.011006   \n",
      "GUARANTOR_AGE                    0.002971          0.008191   \n",
      "GUARANTOR_PNW                    0.012087          0.002930   \n",
      "ELIGIBILITY_PART1                0.004105          0.001066   \n",
      "ELIGIBILITY_PART2                0.010259          0.017072   \n",
      "CIB_STATUS                       0.263735          0.261963   \n",
      "\n",
      "                    PercentileAlgorithm_3  KBestAlgorithm_4  \\\n",
      "REQ_LIMIT                        0.000000         39.498734   \n",
      "LOAN_TENOR                       0.003190         22.451802   \n",
      "INTEREST_RATE                    0.009627          2.702743   \n",
      "PROPOSED_EMI                     0.000000         15.452595   \n",
      "EXISTING_LOAN                    0.008903         50.773438   \n",
      "OUTSTANDING_AMOUNT               0.013020         55.193198   \n",
      "EXT_LOAN_EMI                     0.000433         33.493266   \n",
      "BUS_ASSETS                       0.004234         23.057190   \n",
      "MONTHLY_INCOME                   0.010204         21.528200   \n",
      "BUSINESS_AGE                     0.000565          0.001155   \n",
      "CASH_IN_HAND                     0.011184         16.925675   \n",
      "STOCK                            0.012571         23.565486   \n",
      "RECEIVABLE                       0.000450         32.749131   \n",
      "PAYABLE                          0.002523          9.415991   \n",
      "YEARLY_SALES                     0.002778         23.417723   \n",
      "NET_PROFIT_MARGIN                0.000523          9.969940   \n",
      "DEBT_BUR_RATIO                   0.007036          0.724024   \n",
      "LOAN_TO_PRICE                    0.000000          3.767300   \n",
      "DEBT_EQU_RATIO                   0.004010          1.578790   \n",
      "OWNER_AGE                        0.000000          0.001326   \n",
      "OWNER_PNW                        0.010414          6.342496   \n",
      "GUARANTOR_AGE                    0.001780         13.838527   \n",
      "GUARANTOR_PNW                    0.003137          6.609562   \n",
      "ELIGIBILITY_PART1                0.000000          0.164018   \n",
      "ELIGIBILITY_PART2                0.017899         29.791344   \n",
      "CIB_STATUS                       0.256887      16589.875559   \n",
      "\n",
      "                    PercentileAlgorithm_4  KBestAlgorithm_5  \\\n",
      "REQ_LIMIT                        0.003335          0.005398   \n",
      "LOAN_TENOR                       0.000000          0.000633   \n",
      "INTEREST_RATE                    0.008808          0.000000   \n",
      "PROPOSED_EMI                     0.000000          0.000042   \n",
      "EXISTING_LOAN                    0.003838          0.003597   \n",
      "OUTSTANDING_AMOUNT               0.013576          0.023295   \n",
      "EXT_LOAN_EMI                     0.000000          0.006449   \n",
      "BUS_ASSETS                       0.005696          0.000000   \n",
      "MONTHLY_INCOME                   0.010934          0.004389   \n",
      "BUSINESS_AGE                     0.002527          0.000000   \n",
      "CASH_IN_HAND                     0.001941          0.017066   \n",
      "STOCK                            0.011226          0.009648   \n",
      "RECEIVABLE                       0.001113          0.000568   \n",
      "PAYABLE                          0.000000          0.006452   \n",
      "YEARLY_SALES                     0.000000          0.002327   \n",
      "NET_PROFIT_MARGIN                0.002505          0.006213   \n",
      "DEBT_BUR_RATIO                   0.004986          0.007222   \n",
      "LOAN_TO_PRICE                    0.000000          0.004855   \n",
      "DEBT_EQU_RATIO                   0.007912          0.000000   \n",
      "OWNER_AGE                        0.004116          0.000000   \n",
      "OWNER_PNW                        0.011281          0.011548   \n",
      "GUARANTOR_AGE                    0.007651          0.014384   \n",
      "GUARANTOR_PNW                    0.003644          0.002788   \n",
      "ELIGIBILITY_PART1                0.000000          0.002667   \n",
      "ELIGIBILITY_PART2                0.003222          0.006951   \n",
      "CIB_STATUS                       0.258083          0.263159   \n",
      "\n",
      "                    PercentileAlgorithm_5  \n",
      "REQ_LIMIT                        0.004999  \n",
      "LOAN_TENOR                       0.009339  \n",
      "INTEREST_RATE                    0.003947  \n",
      "PROPOSED_EMI                     0.007801  \n",
      "EXISTING_LOAN                    0.005622  \n",
      "OUTSTANDING_AMOUNT               0.006880  \n",
      "EXT_LOAN_EMI                     0.003983  \n",
      "BUS_ASSETS                       0.005249  \n",
      "MONTHLY_INCOME                   0.010817  \n",
      "BUSINESS_AGE                     0.000000  \n",
      "CASH_IN_HAND                     0.003319  \n",
      "STOCK                            0.010607  \n",
      "RECEIVABLE                       0.000000  \n",
      "PAYABLE                          0.005468  \n",
      "YEARLY_SALES                     0.002187  \n",
      "NET_PROFIT_MARGIN                0.007169  \n",
      "DEBT_BUR_RATIO                   0.007836  \n",
      "LOAN_TO_PRICE                    0.000487  \n",
      "DEBT_EQU_RATIO                   0.006198  \n",
      "OWNER_AGE                        0.006168  \n",
      "OWNER_PNW                        0.013896  \n",
      "GUARANTOR_AGE                    0.010926  \n",
      "GUARANTOR_PNW                    0.010372  \n",
      "ELIGIBILITY_PART1                0.000000  \n",
      "ELIGIBILITY_PART2                0.011084  \n",
      "CIB_STATUS                       0.260966  \n"
     ]
    },
    {
     "name": "stderr",
     "output_type": "stream",
     "text": [
      "/home/babl/anaconda3/lib/python3.7/site-packages/scipy/stats/stats.py:1713: FutureWarning: Using a non-tuple sequence for multidimensional indexing is deprecated; use `arr[tuple(seq)]` instead of `arr[seq]`. In the future this will be interpreted as an array index, `arr[np.array(seq)]`, which will result either in an error or a different result.\n",
      "  return np.add.reduce(sorted[indexer] * weights, axis=axis) / sumval\n"
     ]
    }
   ],
   "source": [
    "import numpy as np\n",
    "from sklearn.feature_selection import f_classif, chi2, mutual_info_classif,f_regression,mutual_info_regression\n",
    "algorithms=np.array([f_classif, chi2, mutual_info_classif,f_regression,mutual_info_regression])\n",
    "print(algorithms)\n",
    "feature_df=pd.DataFrame()\n",
    "count=0\n",
    "for algo in algorithms:\n",
    "#     print(str(algo))\n",
    "    count+=1\n",
    "    selector1 = feature_selection.SelectKBest(k=10, score_func=algo)\n",
    "    selector1.fit_transform(X,y)\n",
    "    selector2 = feature_selection.SelectPercentile(percentile=20, score_func=feature_selection.mutual_info_classif)\n",
    "    selector2.fit_transform(X,y)\n",
    "#     print(selector1.scores_)\n",
    "#     print(selector2.scores_)\n",
    "#     print(score[0])\n",
    "    selected_features_df_1 = pd.DataFrame({'KBestAlgorithm_'+str(count):selector1.scores_},index=list(X.columns))\n",
    "    selected_features_df_2 = pd.DataFrame({'PercentileAlgorithm_'+str(count):selector2.scores_},index=list(X.columns))\n",
    "#     selected_features_df=selected_features_df.sort_values(by='Scores_'+str(count), ascending=False)\n",
    "    feature_df=pd.merge(feature_df, selected_features_df_1, how='outer', left_index=True, right_index=True)\n",
    "    feature_df=pd.merge(feature_df,selected_features_df_2, how='outer', left_index=True, right_index=True)\n",
    "#     print(feature_df)\n",
    "print(feature_df)\n",
    "export_csv = feature_df.to_csv (r'Feature_scores.csv', index = True, header=True)\n",
    "\n",
    "\n",
    "\n"
   ]
  },
  {
   "cell_type": "markdown",
   "metadata": {},
   "source": [
    "# SelectPercentile\n",
    "\n",
    " * Selecting top features whose importances are in configured parameter\n",
    " * Default is top 10 percentile\n"
   ]
  },
  {
   "cell_type": "code",
   "execution_count": 60,
   "metadata": {},
   "outputs": [
    {
     "name": "stdout",
     "output_type": "stream",
     "text": [
      "[0.00551546 0.00080344 0.         0.00094576 0.01004996 0.0154762\n",
      " 0.00377867 0.00417577 0.00903045 0.         0.00791366 0.01189897\n",
      " 0.         0.00176003 0.00046599 0.00244348 0.00737397 0.00161706\n",
      " 0.00832705 0.         0.01259019 0.00503092 0.00399101 0.01400529\n",
      " 0.00968001 0.25907815]\n"
     ]
    },
    {
     "name": "stderr",
     "output_type": "stream",
     "text": [
      "/home/babl/anaconda3/lib/python3.7/site-packages/scipy/stats/stats.py:1713: FutureWarning: Using a non-tuple sequence for multidimensional indexing is deprecated; use `arr[tuple(seq)]` instead of `arr[seq]`. In the future this will be interpreted as an array index, `arr[np.array(seq)]`, which will result either in an error or a different result.\n",
      "  return np.add.reduce(sorted[indexer] * weights, axis=axis) / sumval\n"
     ]
    }
   ],
   "source": [
    "selector = feature_selection.SelectPercentile(percentile=20, score_func=feature_selection.mutual_info_classif)\n",
    "selector.fit_transform(X,y)\n",
    "print(selector.scores_)\n"
   ]
  },
  {
   "cell_type": "markdown",
   "metadata": {},
   "source": [
    "# Select From Model"
   ]
  },
  {
   "cell_type": "code",
   "execution_count": 90,
   "metadata": {},
   "outputs": [
    {
     "name": "stdout",
     "output_type": "stream",
     "text": [
      "(6936, 2)\n",
      "(6936, 26)\n"
     ]
    }
   ],
   "source": [
    "from sklearn.linear_model import LinearRegression\n",
    "\n",
    "clf = LinearRegression()\n",
    "sfm = feature_selection.SelectFromModel(clf, threshold=0.25)\n",
    "print(sfm.fit_transform(X,y).shape)\n",
    "print(X.shape)\n"
   ]
  },
  {
   "cell_type": "markdown",
   "metadata": {},
   "source": [
    "# Recursive feature elimination"
   ]
  },
  {
   "cell_type": "code",
   "execution_count": null,
   "metadata": {},
   "outputs": [],
   "source": [
    "from sklearn.feature_selection import RFE\n",
    "from sklearn.svm import SVR\n",
    "estimator = SVR(kernel=\"linear\")\n",
    "selector = RFE(estimator, 10, step=1)\n",
    "featured_data = selector.fit_transform(X, y)\n",
    "print(featured_data.shape)"
   ]
  },
  {
   "cell_type": "code",
   "execution_count": 57,
   "metadata": {},
   "outputs": [
    {
     "data": {
      "text/plain": [
       "<matplotlib.collections.PathCollection at 0x7fb10f71b4a8>"
      ]
     },
     "execution_count": 57,
     "metadata": {},
     "output_type": "execute_result"
    },
    {
     "data": {
      "image/png": "[encoded data removed]",
      "text/plain": [
       "<Figure size 432x288 with 1 Axes>"
      ]
     },
     "metadata": {
      "needs_background": "light"
     },
     "output_type": "display_data"
    }
   ],
   "source": [
    "plt.scatter(X.values[:,0],y,s=10)\n",
    "plt.scatter(X.values[:,1],y,s=10)"
   ]
  },
  {
   "cell_type": "code",
   "execution_count": 18,
   "metadata": {},
   "outputs": [
    {
     "data": {
      "text/plain": [
       "ELIGIBILITY_PART2     0.070031\n",
       "NET_PROFIT_MARGIN     0.067837\n",
       "OWNER_PNW             0.067375\n",
       "YEARLY_SALES          0.063969\n",
       "DEBT_BUR_RATIO        0.063600\n",
       "DEBT_EQU_RATIO        0.061705\n",
       "STOCK                 0.054784\n",
       "LOAN_TO_PRICE         0.054429\n",
       "GUARANTOR_AGE         0.054345\n",
       "BUS_ASSETS            0.053794\n",
       "RECEIVABLE            0.044741\n",
       "GUARANTOR_PNW         0.043118\n",
       "MONTHLY_INCOME        0.041694\n",
       "PAYABLE               0.039342\n",
       "CASH_IN_HAND          0.037825\n",
       "BUSINESS_AGE          0.035321\n",
       "PROPOSED_EMI          0.026405\n",
       "OUTSTANDING_AMOUNT    0.022324\n",
       "INTEREST_RATE         0.018600\n",
       "ELIGIBILITY_PART1     0.018216\n",
       "REQ_LIMIT             0.017465\n",
       "EXISTING_LOAN         0.016922\n",
       "LOAN_TENOR            0.013719\n",
       "EXT_LOAN_EMI          0.012438\n",
       "dtype: float64"
      ]
     },
     "execution_count": 18,
     "metadata": {},
     "output_type": "execute_result"
    }
   ],
   "source": [
    "feature_imp = pd.Series(clf.feature_importances_,index=X.columns).sort_values(ascending=False)\n",
    "feature_imp"
   ]
  },
  {
   "cell_type": "code",
   "execution_count": 19,
   "metadata": {},
   "outputs": [
    {
     "name": "stderr",
     "output_type": "stream",
     "text": [
      "No handles with labels found to put in legend.\n"
     ]
    },
    {
     "data": {
      "image/png": "[encoded data removed]",
      "text/plain": [
       "<Figure size 432x288 with 1 Axes>"
      ]
     },
     "metadata": {
      "needs_background": "light"
     },
     "output_type": "display_data"
    }
   ],
   "source": [
    "# Creating a bar plot\n",
    "sns.barplot(x=feature_imp, y=feature_imp.index)\n",
    "# Add labels to your graph\n",
    "plt.xlabel('Feature Importance Score')\n",
    "plt.ylabel('Features')\n",
    "plt.title(\"Visualizing Important Features\")\n",
    "plt.legend()\n",
    "plt.show()"
   ]
  },
  {
   "cell_type": "code",
   "execution_count": 39,
   "metadata": {},
   "outputs": [
    {
     "data": {
      "text/plain": [
       "function"
      ]
     },
     "execution_count": 39,
     "metadata": {},
     "output_type": "execute_result"
    }
   ],
   "source": [
    "type(lambda x: x+1) "
   ]
  }
 ],
 "metadata": {
  "kernelspec": {
   "display_name": "Python 3",
   "language": "python",
   "name": "python3"
  },
  "language_info": {
   "codemirror_mode": {
    "name": "ipython",
    "version": 3
   },
   "file_extension": ".py",
   "mimetype": "text/x-python",
   "name": "python",
   "nbconvert_exporter": "python",
   "pygments_lexer": "ipython3",
   "version": "3.7.0"
  }
 },
 "nbformat": 4,
 "nbformat_minor": 2
}
